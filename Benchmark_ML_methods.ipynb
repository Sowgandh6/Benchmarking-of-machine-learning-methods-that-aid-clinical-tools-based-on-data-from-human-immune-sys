{
 "cells": [
  {
   "cell_type": "code",
   "execution_count": 1,
   "metadata": {
    "collapsed": true
   },
   "outputs": [],
   "source": [
    "import random\n",
    "import pandas as pd\n",
    "import seaborn as sns\n",
    "import numpy as np\n",
    "from sklearn.model_selection import train_test_split\n",
    "from sklearn import linear_model\n",
    "from sklearn.ensemble import RandomForestRegressor\n",
    "import matplotlib.pyplot as plt\n",
    "import math\n",
    "from sklearn.metrics import mean_squared_error\n",
    "from sklearn.metrics import r2_score\n",
    "from sklearn.linear_model import Lasso\n",
    "from matplotlib.pyplot import  figure\n",
    "import tensorflow as tf\n",
    "from sklearn.preprocessing import PolynomialFeatures\n",
    "import tensorflow as tf\n",
    "from tensorflow import keras\n",
    "from tensorflow.keras import layers\n",
    "from sklearn.linear_model import RidgeCV"
   ]
  },
  {
   "cell_type": "code",
   "execution_count": 2,
   "outputs": [],
   "source": [
    "# for linear relationship\n",
    "\n",
    "def data_for_linear_relationship():\n",
    "    data = {}\n",
    "    for i in range(0,4):\n",
    "        mean = random.randint(5,10)\n",
    "        data[i] = np.random.normal(mean, 1, size=100)\n",
    "    dataset_1 = pd.DataFrame(data)\n",
    "    dataset_1['y'] = 3* dataset_1[0] + 6* dataset_1[1] + 4* dataset_1[2] + 1*dataset_1[3] + np.random.normal(2,1)\n",
    "    return dataset_1\n",
    "\n",
    "# Linear Regression\n",
    "\n",
    "def linear_regression(dataset):\n",
    "    train_split, validation_split = train_test_split(dataset, test_size=0.2, random_state=123)\n",
    "    x = train_split.drop('y', axis=1)\n",
    "    y = train_split['y']\n",
    "    regr = linear_model.LinearRegression().fit(x,y)\n",
    "    regr.score(x,y)\n",
    "\n",
    "    validation_x = validation_split.drop(['y'], axis=1)\n",
    "    validation_y = validation_split['y']\n",
    "    regr.predict(validation_x)\n",
    "\n",
    "    pred_df1 = pd.DataFrame(zip(regr.predict(validation_x), validation_y))\n",
    "    pred_df1.columns=['predicted_values' , 'true_values']\n",
    "\n",
    "    r2 = r2_score(pred_df1['true_values'],pred_df1['predicted_values'])\n",
    "    r2\n",
    "    mse = mean_squared_error(pred_df1['true_values'],pred_df1['predicted_values'])\n",
    "    RMSE = math.sqrt(mse)\n",
    "    RMSE\n",
    "    return RMSE,r2\n",
    "\n",
    "def mean_std_of_scores_linear_regression(number_of_iterations,dataset):\n",
    "    data_mean_std_rmse_r2 = {}\n",
    "\n",
    "    mean_std_rmse = []\n",
    "    mean_std_r2 = []\n",
    "    for i in range(number_of_iterations):\n",
    "        Rmse,r2 = linear_regression(dataset)\n",
    "        mean_std_rmse.append(Rmse)\n",
    "        mean_std_r2.append(r2)\n",
    "\n",
    "    data_mean_std_rmse_r2['rmse'] = {'mean': np.mean(mean_std_rmse), 'std': np.std(mean_std_rmse)}\n",
    "    data_mean_std_rmse_r2['r2'] = {'mean': np.mean(mean_std_r2), 'std': np.std(mean_std_r2)}\n",
    "    print(data_mean_std_rmse_r2)\n",
    "    return data_mean_std_rmse_r2\n",
    "\n",
    "# random forest\n",
    "\n",
    "def random_forest(dataset):\n",
    "\n",
    "    X = dataset.iloc[:, 0:4].values\n",
    "    y = dataset.iloc[:, 4].values\n",
    "\n",
    "    X_train, X_test, y_train, y_test = train_test_split(X, y, test_size=0.2, random_state=0)\n",
    "\n",
    "    regressor = RandomForestRegressor(n_estimators=200, random_state=0)\n",
    "    regressor.fit(X_train, y_train)\n",
    "    y_pred = regressor.predict(X_test)\n",
    "\n",
    "    pred_df2 = pd.DataFrame(zip(y_pred, y_test))\n",
    "    pred_df2.columns=['predicted_values' , 'true_values']\n",
    "\n",
    "    r2 = r2_score(pred_df2['true_values'],pred_df2['predicted_values'])\n",
    "\n",
    "    mse = mean_squared_error(pred_df2['predicted_values'],pred_df2['true_values'])\n",
    "    RMSE = math.sqrt(mse)\n",
    "\n",
    "    return RMSE,r2\n",
    "\n",
    "def mean_std_of_scores_random_forest(number_of_iterations,dataset):\n",
    "    data_mean_std_rmse_r2 = {}\n",
    "\n",
    "    mean_std_rmse = []\n",
    "    mean_std_r2 = []\n",
    "    for i in range(number_of_iterations):\n",
    "        Rmse,r2 = random_forest(dataset)\n",
    "        mean_std_rmse.append(Rmse)\n",
    "        mean_std_r2.append(r2)\n",
    "\n",
    "    data_mean_std_rmse_r2['rmse'] = {'mean': np.mean(mean_std_rmse), 'std': np.std(mean_std_rmse)}\n",
    "    data_mean_std_rmse_r2['r2'] = {'mean': np.mean(mean_std_r2), 'std': np.std(mean_std_r2)}\n",
    "    print(data_mean_std_rmse_r2)\n",
    "    return data_mean_std_rmse_r2"
   ],
   "metadata": {
    "collapsed": false,
    "pycharm": {
     "name": "#%%\n"
    }
   }
  },
  {
   "cell_type": "code",
   "execution_count": 3,
   "outputs": [
    {
     "name": "stdout",
     "output_type": "stream",
     "text": [
      "{'rmse': {'mean': 1.1457157353758234e-14, 'std': 0.0}, 'r2': {'mean': 1.0, 'std': 0.0}}\n",
      "{'rmse': {'mean': 2.0696635038245605, 'std': 0.0}, 'r2': {'mean': 0.9171170138608362, 'std': 0.0}}\n"
     ]
    }
   ],
   "source": [
    "data = data_for_linear_relationship()\n",
    "q = mean_std_of_scores_linear_regression(3,data)\n",
    "w = mean_std_of_scores_random_forest(3,data)\n"
   ],
   "metadata": {
    "collapsed": false,
    "pycharm": {
     "name": "#%%\n"
    }
   }
  },
  {
   "cell_type": "code",
   "execution_count": 4,
   "outputs": [
    {
     "data": {
      "text/plain": "<Figure size 432x288 with 1 Axes>",
      "image/png": "[encoded data removed]"
     },
     "metadata": {
      "needs_background": "light"
     },
     "output_type": "display_data"
    },
    {
     "data": {
      "text/plain": "<Figure size 432x288 with 1 Axes>",
      "image/png": "[encoded data removed]"
     },
     "metadata": {
      "needs_background": "light"
     },
     "output_type": "display_data"
    }
   ],
   "source": [
    "# plot for rmse\n",
    "\n",
    "models = ['Linear Regression', 'Random Forest']\n",
    "x_pos = np.arange(len(models))\n",
    "CTEs =  q['rmse']['mean'] , w['rmse']['mean']\n",
    "error = q['rmse']['std']  , w['rmse']['std']\n",
    "\n",
    "fig, ax = plt.subplots()\n",
    "\n",
    "ax.bar(x_pos, CTEs, yerr=error, align='center', alpha=0.5, ecolor='black', capsize=10,width = 0.2)\n",
    "ax.set_ylabel('RMSE Scores')\n",
    "ax.set_xticks(x_pos)\n",
    "ax.set_xticklabels(models)\n",
    "\n",
    "ax.yaxis.grid(True)\n",
    "\n",
    "# plot for r2\n",
    "\n",
    "models = ['Linear Regression', 'Random Forest']\n",
    "x_pos = np.arange(len(models))\n",
    "CTEs = q['r2']['mean'] , w['r2']['mean']\n",
    "error = q['r2']['std']  , w['r2']['std']\n",
    "\n",
    "fig, ax = plt.subplots()\n",
    "\n",
    "ax.bar(x_pos, CTEs, yerr=error, align='center', alpha=0.5, ecolor='black', capsize=10,width = 0.2)\n",
    "ax.set_ylabel('R2 Scores')\n",
    "ax.set_xticks(x_pos)\n",
    "ax.set_xticklabels(models)\n",
    "\n",
    "ax.yaxis.grid(True)\n"
   ],
   "metadata": {
    "collapsed": false,
    "pycharm": {
     "name": "#%%\n"
    }
   }
  },
  {
   "cell_type": "code",
   "execution_count": 5,
   "outputs": [],
   "source": [
    "# For non-linear data\n",
    "def data_for_non_linear_relationship():\n",
    "    data = {}\n",
    "    for i in range(0,4):\n",
    "        mean = random.randint(5,10)\n",
    "        data[i] = np.random.normal(mean, 1, size=100)\n",
    "    dataset_2 = pd.DataFrame(data)\n",
    "    dataset_2['y'] = 2 * dataset_2[0] + 3 * ((dataset_2[1]) ** 3) - 5 * ((dataset_2[2]) ** 2) + 1*dataset_2[3]\n",
    "    return dataset_2\n",
    "\n",
    "\n",
    "# Linear Regression\n",
    "\n",
    "def linear_regression_for_non_linear(dataset):\n",
    "\n",
    "    train_split, validation_split = train_test_split(dataset, test_size=0.2, random_state=123)\n",
    "    x = train_split.drop('y', axis=1)\n",
    "    y = train_split['y']\n",
    "    regr = linear_model.LinearRegression().fit(x,y)\n",
    "    regr.score(x,y)\n",
    "\n",
    "    validation_x = validation_split.drop(['y'], axis=1)\n",
    "    validation_y = validation_split['y']\n",
    "    regr.predict(validation_x)\n",
    "\n",
    "    pred_df3 = pd.DataFrame(zip(regr.predict(validation_x), validation_y))\n",
    "    pred_df3.columns=['predicted_values' , 'true_values']\n",
    "\n",
    "    mse = mean_squared_error(pred_df3['true_values'],pred_df3['predicted_values'])\n",
    "    RMSE = math.sqrt(mse)\n",
    "    r2 = r2_score(pred_df3['true_values'],pred_df3['predicted_values'])\n",
    "    return RMSE,r2\n",
    "\n",
    "def mean_std_of_scores_linear_regression_for_non_linear(number_of_iterations,dataset):\n",
    "    data_mean_std_rmse_r2 = {}\n",
    "\n",
    "    mean_std_rmse = []\n",
    "    mean_std_r2 = []\n",
    "    for i in range(number_of_iterations):\n",
    "        Rmse,r2 = linear_regression_for_non_linear(dataset)\n",
    "        mean_std_rmse.append(Rmse)\n",
    "        mean_std_r2.append(r2)\n",
    "\n",
    "    data_mean_std_rmse_r2['rmse'] = {'mean': np.mean(mean_std_rmse), 'std': np.std(mean_std_rmse)}\n",
    "    data_mean_std_rmse_r2['r2'] = {'mean': np.mean(mean_std_r2), 'std': np.std(mean_std_r2)}\n",
    "    print(data_mean_std_rmse_r2)\n",
    "    return data_mean_std_rmse_r2\n",
    "\n",
    "# Random Forest\n",
    "def random_forest_for_non_linear(dataset):\n",
    "    X = dataset.iloc[:, 0:4].values\n",
    "    y = dataset.iloc[:, 4].values\n",
    "\n",
    "    X_train, X_test, y_train, y_test = train_test_split(X, y, test_size=0.2, random_state=0)\n",
    "\n",
    "    regressor = RandomForestRegressor(n_estimators=200, random_state=0)\n",
    "    regressor.fit(X_train, y_train)\n",
    "    y_pred = regressor.predict(X_test)\n",
    "\n",
    "    pred_df4 = pd.DataFrame(zip(y_pred, y_test))\n",
    "    pred_df4.columns=['predicted_values' , 'true_values']\n",
    "\n",
    "    mse = mean_squared_error(pred_df4['predicted_values'],pred_df4['true_values'])\n",
    "    RMSE = math.sqrt(mse)\n",
    "    r2 = r2_score(pred_df4['true_values'],pred_df4['predicted_values'])\n",
    "    return RMSE,r2\n",
    "\n",
    "def mean_std_of_scores_random_forest_for_non_linear(number_of_iterations,dataset):\n",
    "    data_mean_std_rmse_r2 = {}\n",
    "\n",
    "    mean_std_rmse = []\n",
    "    mean_std_r2 = []\n",
    "    for i in range(number_of_iterations):\n",
    "        Rmse,r2 = random_forest_for_non_linear(dataset)\n",
    "        mean_std_rmse.append(Rmse)\n",
    "        mean_std_r2.append(r2)\n",
    "\n",
    "    data_mean_std_rmse_r2['rmse'] = {'mean': np.mean(mean_std_rmse), 'std': np.std(mean_std_rmse)}\n",
    "    data_mean_std_rmse_r2['r2'] = {'mean': np.mean(mean_std_r2), 'std': np.std(mean_std_r2)}\n",
    "    print(data_mean_std_rmse_r2)\n",
    "    return data_mean_std_rmse_r2"
   ],
   "metadata": {
    "collapsed": false,
    "pycharm": {
     "name": "#%%\n"
    }
   }
  },
  {
   "cell_type": "code",
   "execution_count": 6,
   "outputs": [
    {
     "name": "stdout",
     "output_type": "stream",
     "text": [
      "{'rmse': {'mean': 63.59506007404335, 'std': 7.105427357601002e-15}, 'r2': {'mean': 0.9822044536235538, 'std': 1.1102230246251565e-16}}\n",
      "{'rmse': {'mean': 268.4285258738871, 'std': 0.0}, 'r2': {'mean': 0.8556762912404615, 'std': 0.0}}\n"
     ]
    }
   ],
   "source": [
    "data = data_for_non_linear_relationship()\n",
    "s = mean_std_of_scores_linear_regression_for_non_linear(3,data)\n",
    "d = mean_std_of_scores_random_forest_for_non_linear(3,data)"
   ],
   "metadata": {
    "collapsed": false,
    "pycharm": {
     "name": "#%%\n"
    }
   }
  },
  {
   "cell_type": "code",
   "execution_count": 7,
   "outputs": [
    {
     "data": {
      "text/plain": "<Figure size 432x288 with 1 Axes>",
      "image/png": "[encoded data removed]"
     },
     "metadata": {
      "needs_background": "light"
     },
     "output_type": "display_data"
    },
    {
     "data": {
      "text/plain": "<Figure size 432x288 with 1 Axes>",
      "image/png": "[encoded data removed]"
     },
     "metadata": {
      "needs_background": "light"
     },
     "output_type": "display_data"
    }
   ],
   "source": [
    "# plot for rmse\n",
    "\n",
    "models = ['Linear Regression', 'Random Forest']\n",
    "x_pos = np.arange(len(models))\n",
    "CTEs =  s['rmse']['mean'] , d['rmse']['mean']\n",
    "error = s['rmse']['std']  , d['rmse']['std']\n",
    "\n",
    "fig, ax = plt.subplots()\n",
    "\n",
    "ax.bar(x_pos, CTEs, yerr=error, align='center', alpha=0.5, ecolor='black', capsize=10,width = 0.2)\n",
    "ax.set_ylabel('RMSE Scores')\n",
    "ax.set_xticks(x_pos)\n",
    "ax.set_xticklabels(models)\n",
    "\n",
    "ax.yaxis.grid(True)\n",
    "\n",
    "# plot for r2\n",
    "\n",
    "models = ['Linear Regression', 'Random Forest']\n",
    "x_pos = np.arange(len(models))\n",
    "CTEs = s['r2']['mean'] , d['r2']['mean']\n",
    "error = s['r2']['std']  , d['r2']['std']\n",
    "\n",
    "fig, ax = plt.subplots()\n",
    "\n",
    "ax.bar(x_pos, CTEs, yerr=error, align='center', alpha=0.5, ecolor='black', capsize=10,width = 0.2)\n",
    "ax.set_ylabel('R2 Scores')\n",
    "ax.set_xticks(x_pos)\n",
    "ax.set_xticklabels(models)\n",
    "\n",
    "ax.yaxis.grid(True)\n",
    "\n"
   ],
   "metadata": {
    "collapsed": false,
    "pycharm": {
     "name": "#%%\n"
    }
   }
  },
  {
   "cell_type": "markdown",
   "source": [],
   "metadata": {
    "collapsed": false,
    "pycharm": {
     "name": "#%% md\n"
    }
   }
  },
  {
   "cell_type": "code",
   "execution_count": 8,
   "outputs": [],
   "source": [
    "# For non-linear data with polynomial features\n",
    "def data_for_non_linear_relationship_poly_feat():\n",
    "    data = {}\n",
    "    for i in range(0,4):\n",
    "        mean = random.randint(5,10)\n",
    "        data[i] = np.random.normal(mean, 1, size=100)\n",
    "    dataset_2 = pd.DataFrame(data)\n",
    "    dataset_2['x5'] =  dataset_2[1] ** 3\n",
    "    dataset_2['x6'] = dataset_2[2] ** 2\n",
    "    dataset_2['y'] = 2 * dataset_2[0] + 3 * ((dataset_2[1]) ** 3) - 5 * ((dataset_2[2]) ** 2) + 1*dataset_2[3]\n",
    "    return dataset_2\n",
    "\n",
    "\n",
    "# Linear Regression\n",
    "\n",
    "def linear_regression_for_non_linear(dataset):\n",
    "\n",
    "    train_split, validation_split = train_test_split(dataset, test_size=0.2, random_state=123)\n",
    "    x = train_split.drop('y', axis=1)\n",
    "    y = train_split['y']\n",
    "    regr = linear_model.LinearRegression().fit(x,y)\n",
    "    regr.score(x,y)\n",
    "\n",
    "    validation_x = validation_split.drop(['y'], axis=1)\n",
    "    validation_y = validation_split['y']\n",
    "    regr.predict(validation_x)\n",
    "\n",
    "    pred_df3 = pd.DataFrame(zip(regr.predict(validation_x), validation_y))\n",
    "    pred_df3.columns=['predicted_values' , 'true_values']\n",
    "\n",
    "    mse = mean_squared_error(pred_df3['true_values'],pred_df3['predicted_values'])\n",
    "    RMSE = math.sqrt(mse)\n",
    "    r2 = r2_score(pred_df3['true_values'],pred_df3['predicted_values'])\n",
    "    return RMSE,r2\n",
    "\n",
    "def mean_std_of_scores_linear_regression_for_non_linear(number_of_iterations,dataset):\n",
    "    data_mean_std_rmse_r2 = {}\n",
    "\n",
    "    mean_std_rmse = []\n",
    "    mean_std_r2 = []\n",
    "    for i in range(number_of_iterations):\n",
    "        Rmse,r2 = linear_regression_for_non_linear(dataset)\n",
    "        mean_std_rmse.append(Rmse)\n",
    "        mean_std_r2.append(r2)\n",
    "\n",
    "    data_mean_std_rmse_r2['rmse'] = {'mean': np.mean(mean_std_rmse), 'std': np.std(mean_std_rmse)}\n",
    "    data_mean_std_rmse_r2['r2'] = {'mean': np.mean(mean_std_r2), 'std': np.std(mean_std_r2)}\n",
    "    print(data_mean_std_rmse_r2)\n",
    "    return data_mean_std_rmse_r2\n",
    "\n",
    "# Random Forest\n",
    "def random_forest_for_non_linear(dataset):\n",
    "    X = dataset.iloc[:, 0:4].values\n",
    "    y = dataset.iloc[:, 4].values\n",
    "\n",
    "    X_train, X_test, y_train, y_test = train_test_split(X, y, test_size=0.2, random_state=0)\n",
    "\n",
    "    regressor = RandomForestRegressor(n_estimators=200, random_state=0)\n",
    "    regressor.fit(X_train, y_train)\n",
    "    y_pred = regressor.predict(X_test)\n",
    "\n",
    "    pred_df4 = pd.DataFrame(zip(y_pred, y_test))\n",
    "    pred_df4.columns=['predicted_values' , 'true_values']\n",
    "\n",
    "    mse = mean_squared_error(pred_df4['predicted_values'],pred_df4['true_values'])\n",
    "    RMSE = math.sqrt(mse)\n",
    "    r2 = r2_score(pred_df4['true_values'],pred_df4['predicted_values'])\n",
    "    return RMSE,r2\n",
    "\n",
    "def mean_std_of_scores_random_forest_for_non_linear(number_of_iterations,dataset):\n",
    "    data_mean_std_rmse_r2 = {}\n",
    "\n",
    "    mean_std_rmse = []\n",
    "    mean_std_r2 = []\n",
    "    for i in range(number_of_iterations):\n",
    "        Rmse,r2 = random_forest_for_non_linear(dataset)\n",
    "        mean_std_rmse.append(Rmse)\n",
    "        mean_std_r2.append(r2)\n",
    "\n",
    "    data_mean_std_rmse_r2['rmse'] = {'mean': np.mean(mean_std_rmse), 'std': np.std(mean_std_rmse)}\n",
    "    data_mean_std_rmse_r2['r2'] = {'mean': np.mean(mean_std_r2), 'std': np.std(mean_std_r2)}\n",
    "    print(data_mean_std_rmse_r2)\n",
    "    return data_mean_std_rmse_r2"
   ],
   "metadata": {
    "collapsed": false,
    "pycharm": {
     "name": "#%%\n"
    }
   }
  },
  {
   "cell_type": "code",
   "execution_count": 9,
   "outputs": [
    {
     "name": "stdout",
     "output_type": "stream",
     "text": [
      "{'rmse': {'mean': 1.7743839877674968e-13, 'std': 0.0}, 'r2': {'mean': 1.0, 'std': 0.0}}\n",
      "{'rmse': {'mean': 2.5669127761407577, 'std': 0.0}, 'r2': {'mean': 0.9979659208241385, 'std': 0.0}}\n"
     ]
    }
   ],
   "source": [
    "data = data_for_non_linear_relationship_poly_feat()\n",
    "g = mean_std_of_scores_linear_regression_for_non_linear(3,data)\n",
    "j = mean_std_of_scores_random_forest_for_non_linear(3,data)"
   ],
   "metadata": {
    "collapsed": false,
    "pycharm": {
     "name": "#%%\n"
    }
   }
  },
  {
   "cell_type": "code",
   "execution_count": 10,
   "outputs": [
    {
     "data": {
      "text/plain": "<Figure size 432x288 with 1 Axes>",
      "image/png": "[encoded data removed]"
     },
     "metadata": {
      "needs_background": "light"
     },
     "output_type": "display_data"
    },
    {
     "data": {
      "text/plain": "<Figure size 432x288 with 1 Axes>",
      "image/png": "[encoded data removed]"
     },
     "metadata": {
      "needs_background": "light"
     },
     "output_type": "display_data"
    }
   ],
   "source": [
    "# plot for rmse\n",
    "\n",
    "models = ['Linear Regression', 'Random Forest']\n",
    "x_pos = np.arange(len(models))\n",
    "CTEs =  g['rmse']['mean'] , j['rmse']['mean']\n",
    "error = g['rmse']['std']  , j['rmse']['std']\n",
    "\n",
    "fig, ax = plt.subplots()\n",
    "\n",
    "ax.bar(x_pos, CTEs, yerr=error, align='center', alpha=0.5, ecolor='black', capsize=10,width = 0.2)\n",
    "ax.set_ylabel('RMSE Scores')\n",
    "ax.set_xticks(x_pos)\n",
    "ax.set_xticklabels(models)\n",
    "\n",
    "ax.yaxis.grid(True)\n",
    "\n",
    "# plot for r2\n",
    "\n",
    "models = ['Linear Regression', 'Random Forest']\n",
    "x_pos = np.arange(len(models))\n",
    "CTEs = g['r2']['mean'] , j['r2']['mean']\n",
    "error = g['r2']['std']  , j['r2']['std']\n",
    "\n",
    "fig, ax = plt.subplots()\n",
    "\n",
    "ax.bar(x_pos, CTEs, yerr=error, align='center', alpha=0.5, ecolor='black', capsize=10,width = 0.2)\n",
    "ax.set_ylabel('R2 Scores')\n",
    "ax.set_xticks(x_pos)\n",
    "ax.set_xticklabels(models)\n",
    "\n",
    "ax.yaxis.grid(True)"
   ],
   "metadata": {
    "collapsed": false,
    "pycharm": {
     "name": "#%%\n"
    }
   }
  },
  {
   "cell_type": "code",
   "execution_count": 11,
   "outputs": [],
   "source": [
    "# for sparse signal\n",
    "\n",
    "def data_for_sparse_signal():\n",
    "    data = {}\n",
    "    for i in range(0,10000):\n",
    "        mean = random.randint(5,10)\n",
    "        data[i] = np.random.normal(mean, 1, size=100)\n",
    "    dataset_2 = pd.DataFrame(data)\n",
    "    dataset_2['y'] = 2 * dataset_2[0] + 3 * dataset_2[1]\n",
    "    return dataset_2\n",
    "\n",
    "def linear_regression_for_sparse(dataset):\n",
    "\n",
    "    train_split, validation_split = train_test_split(dataset, test_size=0.2, random_state=123)\n",
    "    x = train_split.drop('y', axis=1)\n",
    "    y = train_split['y']\n",
    "    regr = linear_model.LinearRegression().fit(x,y)\n",
    "    regr.score(x,y)\n",
    "\n",
    "    validation_x = validation_split.drop(['y'], axis=1)\n",
    "    validation_y = validation_split['y']\n",
    "    regr.predict(validation_x)\n",
    "\n",
    "    pred_df3 = pd.DataFrame(zip(regr.predict(validation_x), validation_y))\n",
    "    pred_df3.columns=['predicted_values' , 'true_values']\n",
    "\n",
    "    mse = mean_squared_error(pred_df3['true_values'],pred_df3['predicted_values'])\n",
    "    RMSE = math.sqrt(mse)\n",
    "    r2 = r2_score(pred_df3['true_values'],pred_df3['predicted_values'])\n",
    "    return RMSE,r2\n",
    "\n",
    "def mean_std_of_scores_linear_regression_for_sparse_signal(number_of_iterations,dataset):\n",
    "    data_mean_std_rmse_r2 = {}\n",
    "\n",
    "    mean_std_rmse = []\n",
    "    mean_std_r2 = []\n",
    "    for i in range(number_of_iterations):\n",
    "        Rmse,r2 = linear_regression_for_sparse(dataset)\n",
    "        mean_std_rmse.append(Rmse)\n",
    "        mean_std_r2.append(r2)\n",
    "\n",
    "    data_mean_std_rmse_r2['rmse'] = {'mean': np.mean(mean_std_rmse), 'std': np.std(mean_std_rmse)}\n",
    "    data_mean_std_rmse_r2['r2'] = {'mean': np.mean(mean_std_r2), 'std': np.std(mean_std_r2)}\n",
    "    print(data_mean_std_rmse_r2)\n",
    "    return data_mean_std_rmse_r2\n",
    "\n",
    "# Random Forest\n",
    "def random_forest_for_sparse_signal(dataset):\n",
    "    X = dataset.iloc[:, 0:4].values\n",
    "    y = dataset.iloc[:, 4].values\n",
    "\n",
    "    X_train, X_test, y_train, y_test = train_test_split(X, y, test_size=0.2, random_state=0)\n",
    "\n",
    "    regressor = RandomForestRegressor(n_estimators=200, random_state=0)\n",
    "    regressor.fit(X_train, y_train)\n",
    "    y_pred = regressor.predict(X_test)\n",
    "\n",
    "    pred_df4 = pd.DataFrame(zip(y_pred, y_test))\n",
    "    pred_df4.columns=['predicted_values' , 'true_values']\n",
    "\n",
    "    mse = mean_squared_error(pred_df4['predicted_values'],pred_df4['true_values'])\n",
    "    RMSE = math.sqrt(mse)\n",
    "    r2 = r2_score(pred_df4['true_values'],pred_df4['predicted_values'])\n",
    "    return RMSE,r2\n",
    "\n",
    "def mean_std_of_scores_random_forest_for_sparse_signal(number_of_iterations,dataset):\n",
    "    data_mean_std_rmse_r2 = {}\n",
    "\n",
    "    mean_std_rmse = []\n",
    "    mean_std_r2 = []\n",
    "    for i in range(number_of_iterations):\n",
    "        Rmse,r2 = random_forest_for_sparse_signal(dataset)\n",
    "        mean_std_rmse.append(Rmse)\n",
    "        mean_std_r2.append(r2)\n",
    "\n",
    "    data_mean_std_rmse_r2['rmse'] = {'mean': np.mean(mean_std_rmse), 'std': np.std(mean_std_rmse)}\n",
    "    data_mean_std_rmse_r2['r2'] = {'mean': np.mean(mean_std_r2), 'std': np.std(mean_std_r2)}\n",
    "    print(data_mean_std_rmse_r2)\n",
    "    return data_mean_std_rmse_r2\n",
    "\n"
   ],
   "metadata": {
    "collapsed": false,
    "pycharm": {
     "name": "#%%\n"
    }
   }
  },
  {
   "cell_type": "code",
   "execution_count": 12,
   "outputs": [
    {
     "name": "stdout",
     "output_type": "stream",
     "text": [
      "{'rmse': {'mean': 3.3990626605389758, 'std': 4.440892098500626e-16}, 'r2': {'mean': 0.057157358740875686, 'std': 0.0}}\n",
      "{'rmse': {'mean': 1.1792448141965648, 'std': 0.0}, 'r2': {'mean': -0.17400667755646815, 'std': 0.0}}\n"
     ]
    }
   ],
   "source": [
    "data = data_for_sparse_signal()\n",
    "m = mean_std_of_scores_linear_regression_for_sparse_signal(3,data)\n",
    "n = mean_std_of_scores_random_forest_for_sparse_signal(3,data)"
   ],
   "metadata": {
    "collapsed": false,
    "pycharm": {
     "name": "#%%\n"
    }
   }
  },
  {
   "cell_type": "code",
   "execution_count": 13,
   "outputs": [
    {
     "data": {
      "text/plain": "<Figure size 432x288 with 1 Axes>",
      "image/png": "[encoded data removed]"
     },
     "metadata": {
      "needs_background": "light"
     },
     "output_type": "display_data"
    },
    {
     "data": {
      "text/plain": "<Figure size 432x288 with 1 Axes>",
      "image/png": "[encoded data removed]"
     },
     "metadata": {
      "needs_background": "light"
     },
     "output_type": "display_data"
    }
   ],
   "source": [
    "# plot for rmse\n",
    "\n",
    "models = ['Linear Regression', 'Random Forest']\n",
    "x_pos = np.arange(len(models))\n",
    "CTEs =  m['rmse']['mean'] , n['rmse']['mean']\n",
    "error = m['rmse']['std']  , n['rmse']['std']\n",
    "\n",
    "fig, ax = plt.subplots()\n",
    "\n",
    "ax.bar(x_pos, CTEs, yerr=error, align='center', alpha=0.5, ecolor='black', capsize=10,width = 0.2)\n",
    "ax.set_ylabel('RMSE Scores')\n",
    "ax.set_xticks(x_pos)\n",
    "ax.set_xticklabels(models)\n",
    "\n",
    "ax.yaxis.grid(True)\n",
    "\n",
    "# plot for r2\n",
    "\n",
    "models = ['Linear Regression', 'Random Forest']\n",
    "x_pos = np.arange(len(models))\n",
    "CTEs = m['r2']['mean'] , n['r2']['mean']\n",
    "error = m['r2']['std']  , n['r2']['std']\n",
    "\n",
    "fig, ax = plt.subplots()\n",
    "\n",
    "ax.bar(x_pos, CTEs, yerr=error, align='center', alpha=0.5, ecolor='black', capsize=10,width = 0.2)\n",
    "ax.set_ylabel('R2 Scores')\n",
    "ax.set_xticks(x_pos)\n",
    "ax.set_xticklabels(models)\n",
    "\n",
    "ax.yaxis.grid(True)"
   ],
   "metadata": {
    "collapsed": false,
    "pycharm": {
     "name": "#%%\n"
    }
   }
  },
  {
   "cell_type": "code",
   "execution_count": 14,
   "outputs": [],
   "source": [
    "# for sparse signal with reguralization\n",
    "def data_for_sparse_signal_with_regularization():\n",
    "    data = {}\n",
    "    for i in range(0,10000):\n",
    "        mean = random.randint(5,10)\n",
    "        data[i] = np.random.normal(mean, 1, size=100)\n",
    "    dataset_2 = pd.DataFrame(data)\n",
    "    dataset_2['y'] = 2 * dataset_2[0] + 3 * dataset_2[1]\n",
    "    return dataset_2\n",
    "\n",
    "def reguralization(dataset):\n",
    "    train_split, validation_split = train_test_split(dataset, test_size=0.2, random_state=123)\n",
    "    x = train_split.drop('y', axis=1)\n",
    "    y = train_split['y']\n",
    "    lasso = Lasso(alpha=0.01)\n",
    "    lasso.fit(x, y)\n",
    "\n",
    "    lasso.score(x,y)\n",
    "\n",
    "\n",
    "    validation_x = validation_split.drop(['y'], axis=1)\n",
    "    validation_y = validation_split['y']\n",
    "    lasso.fit(validation_x,validation_y)\n",
    "    lasso.score(validation_x,validation_y)\n",
    "    lasso.predict(validation_x)\n",
    "\n",
    "    pred_df3 = pd.DataFrame(zip(lasso.predict(validation_x), validation_y))\n",
    "    pred_df3.columns=['predicted_values' , 'true_values']\n",
    "\n",
    "    mse = mean_squared_error(pred_df3['true_values'],pred_df3['predicted_values'])\n",
    "    RMSE = math.sqrt(mse)\n",
    "    r2 = r2_score(pred_df3['true_values'],pred_df3['predicted_values'])\n",
    "    return RMSE,r2\n",
    "\n",
    "def mean_std_of_scores_linear_regression_for_sparse_signal_with_reguralization(number_of_iterations,dataset):\n",
    "    data_mean_std_rmse_r2 = {}\n",
    "\n",
    "    mean_std_rmse = []\n",
    "    mean_std_r2 = []\n",
    "    for i in range(number_of_iterations):\n",
    "        Rmse,r2 = reguralization(dataset)\n",
    "        mean_std_rmse.append(Rmse)\n",
    "        mean_std_r2.append(r2)\n",
    "\n",
    "    data_mean_std_rmse_r2['rmse'] = {'mean': np.mean(mean_std_rmse), 'std': np.std(mean_std_rmse)}\n",
    "    data_mean_std_rmse_r2['r2'] = {'mean': np.mean(mean_std_r2), 'std': np.std(mean_std_r2)}\n",
    "    print(data_mean_std_rmse_r2)\n",
    "    return data_mean_std_rmse_r2"
   ],
   "metadata": {
    "collapsed": false,
    "pycharm": {
     "name": "#%%\n"
    }
   }
  },
  {
   "cell_type": "code",
   "execution_count": 15,
   "outputs": [
    {
     "name": "stderr",
     "output_type": "stream",
     "text": [
      "C:\\Users\\sowgu\\anaconda3\\lib\\site-packages\\sklearn\\linear_model\\_coordinate_descent.py:530: ConvergenceWarning: Objective did not converge. You might want to increase the number of iterations. Duality gap: 0.0513971940595007, tolerance: 0.019544050206551828\n",
      "  model = cd_fast.enet_coordinate_descent(\n",
      "C:\\Users\\sowgu\\anaconda3\\lib\\site-packages\\sklearn\\linear_model\\_coordinate_descent.py:530: ConvergenceWarning: Objective did not converge. You might want to increase the number of iterations. Duality gap: 0.0513971940595007, tolerance: 0.019544050206551828\n",
      "  model = cd_fast.enet_coordinate_descent(\n",
      "C:\\Users\\sowgu\\anaconda3\\lib\\site-packages\\sklearn\\linear_model\\_coordinate_descent.py:530: ConvergenceWarning: Objective did not converge. You might want to increase the number of iterations. Duality gap: 0.0513971940595007, tolerance: 0.019544050206551828\n",
      "  model = cd_fast.enet_coordinate_descent(\n"
     ]
    },
    {
     "name": "stdout",
     "output_type": "stream",
     "text": [
      "{'rmse': {'mean': 0.014030151377915403, 'std': 0.0}, 'r2': {'mean': 0.9999798562584923, 'std': 0.0}}\n"
     ]
    }
   ],
   "source": [
    "data = data_for_sparse_signal()\n",
    "m = mean_std_of_scores_linear_regression_for_sparse_signal_with_reguralization(3,data)\n"
   ],
   "metadata": {
    "collapsed": false,
    "pycharm": {
     "name": "#%%\n"
    }
   }
  },
  {
   "cell_type": "code",
   "execution_count": 17,
   "outputs": [
    {
     "data": {
      "text/plain": "<Figure size 800x300 with 0 Axes>"
     },
     "metadata": {},
     "output_type": "display_data"
    },
    {
     "data": {
      "text/plain": "<Figure size 432x288 with 1 Axes>",
      "image/png": "[encoded data removed]"
     },
     "metadata": {
      "needs_background": "light"
     },
     "output_type": "display_data"
    },
    {
     "data": {
      "text/plain": "<Figure size 300x300 with 0 Axes>"
     },
     "metadata": {},
     "output_type": "display_data"
    },
    {
     "data": {
      "text/plain": "<Figure size 432x288 with 1 Axes>",
      "image/png": "[encoded data removed]"
     },
     "metadata": {
      "needs_background": "light"
     },
     "output_type": "display_data"
    }
   ],
   "source": [
    "# plot for rmse\n",
    "\n",
    "models = ['Linear Regression ']\n",
    "x_pos = np.arange(len(models))\n",
    "CTEs =  m['rmse']['mean']\n",
    "error = m['rmse']['std']\n",
    "figure(figsize=(8, 3), dpi=100)\n",
    "fig, ax = plt.subplots()\n",
    "\n",
    "ax.bar(x_pos, CTEs, yerr=error, align='center', alpha=0.5, ecolor='black', capsize=10,width = 0.2 )\n",
    "ax.set_ylabel('RMSE Scores')\n",
    "\n",
    "ax.set_xticks(x_pos)\n",
    "ax.set_xticklabels(models)\n",
    "\n",
    "ax.yaxis.grid(True)\n",
    "\n",
    "# plot for r2\n",
    "\n",
    "models = ['Linear Regression']\n",
    "x_pos = np.arange(len(models))\n",
    "CTEs = m['r2']['mean']\n",
    "error = m['r2']['std']\n",
    "figure(figsize=(3, 3), dpi=100)\n",
    "fig, ax = plt.subplots()\n",
    "\n",
    "ax.bar(x_pos, CTEs, yerr=error, align='center', alpha=0.5, ecolor='black', capsize=10,width = 0.1)\n",
    "ax.set_ylabel('R2 Scores')\n",
    "ax.set_xticks(x_pos)\n",
    "ax.set_xticklabels(models)\n",
    "\n",
    "ax.yaxis.grid(True)"
   ],
   "metadata": {
    "collapsed": false,
    "pycharm": {
     "name": "#%%\n"
    }
   }
  },
  {
   "cell_type": "code",
   "execution_count": 764,
   "outputs": [],
   "source": [
    "# Distributional shifts\n",
    "\n",
    "def data_for_distributional_shifts():\n",
    "    data = {}\n",
    "    means= range(5,9)\n",
    "    for j in range(len(means)):\n",
    "        data[j] = np.random.normal(means[j], 1, size=100)\n",
    "    dataset_2 = pd.DataFrame(data)\n",
    "    dataset_2['y'] = 5 * dataset_2[0] - 3 * dataset_2[1] + 1.5 * dataset_2[2] + 50 * dataset_2[3] + np.random.normal(2,1)\n",
    "    return dataset_2\n",
    "\n",
    "def new_test_data_for_distributional_shifts():\n",
    "    data_new = {}\n",
    "    means= range(5,9)\n",
    "    for j in range(len(means)):\n",
    "        data_new[j] = np.random.normal(means[j], 1, size=100)\n",
    "    dataset_new = pd.DataFrame(data_new)\n",
    "    dataset_new['y'] = 3 * dataset_new[0] - 1 * dataset_new[1] + 3.5 * dataset_new[2] + 30 * dataset_new[3] + np.random.normal(2,1)\n",
    "    return dataset_new\n",
    "\n",
    "\n",
    "def linear_regression_for_distributional_shifts(dataset,new_test_data):\n",
    "\n",
    "    train_split, validation_split = train_test_split(dataset, test_size=0.2, random_state=123)\n",
    "    x = train_split.drop('y', axis=1)\n",
    "    y = train_split['y']\n",
    "    regr = linear_model.LinearRegression().fit(x,y)\n",
    "\n",
    "\n",
    "    validation_x = validation_split.drop(['y'], axis=1)\n",
    "    validation_y = validation_split['y']\n",
    "    regr.predict(validation_x)\n",
    "   # print(regr.coef_)\n",
    "    new_test_data_x = new_test_data.drop(['y'],axis=1)\n",
    "    new_test_data_y = new_test_data['y']\n",
    "\n",
    "\n",
    "\n",
    "    #\n",
    "\n",
    "\n",
    "    pred_df3 = pd.DataFrame(zip(regr.predict(new_test_data_x), new_test_data_y))\n",
    "    pred_df3.columns=['predicted_values' , 'true_values']\n",
    "    #print(pred_df3)\n",
    "    mse = mean_squared_error(pred_df3['true_values'],pred_df3['predicted_values'])\n",
    "    RMSE = math.sqrt(mse)\n",
    "    r2 = r2_score(pred_df3['true_values'],pred_df3['predicted_values'])\n",
    "    return RMSE,r2\n",
    "\n",
    "def mean_std_of_scores_linear_regression_for_distributional_shifts(number_of_iterations,dataset,new_test_data):\n",
    "    data_mean_std_rmse_r2 = {}\n",
    "\n",
    "    mean_std_rmse = []\n",
    "    mean_std_r2 = []\n",
    "    for i in range(number_of_iterations):\n",
    "        Rmse,r2 = linear_regression_for_distributional_shifts(dataset,new_test_data)\n",
    "        mean_std_rmse.append(Rmse)\n",
    "        mean_std_r2.append(r2)\n",
    "\n",
    "    data_mean_std_rmse_r2['rmse'] = {'mean': np.mean(mean_std_rmse), 'std': np.std(mean_std_rmse)}\n",
    "    data_mean_std_rmse_r2['r2'] = {'mean': np.mean(mean_std_r2), 'std': np.std(mean_std_r2)}\n",
    "    print(data_mean_std_rmse_r2)\n",
    "    return data_mean_std_rmse_r2\n",
    "\n",
    "# Random Forest\n",
    "def random_forest_for_distributional_shifts(dataset,new_test_data):\n",
    "    X = dataset.iloc[:, 0:4].values\n",
    "    y = dataset.iloc[:, 4].values\n",
    "\n",
    "    X_train, X_test, y_train, y_test = train_test_split(X, y, test_size=0.2, random_state=0)\n",
    "\n",
    "    regressor = RandomForestRegressor(n_estimators=200, random_state=0)\n",
    "    regressor.fit(X_train, y_train)\n",
    "\n",
    "    new_test_data_x = new_test_data.drop(['y'],axis=1)\n",
    "    new_test_data_y = new_test_data['y']\n",
    "\n",
    "    y_pred = regressor.predict(new_test_data_x)\n",
    "\n",
    "    pred_df4 = pd.DataFrame(zip(y_pred, new_test_data_y))\n",
    "    pred_df4.columns=['predicted_values' , 'true_values']\n",
    "\n",
    "    mse = mean_squared_error(pred_df4['predicted_values'],pred_df4['true_values'])\n",
    "    RMSE = math.sqrt(mse)\n",
    "    r2 = r2_score(pred_df4['true_values'],pred_df4['predicted_values'])\n",
    "    return RMSE,r2\n",
    "\n",
    "def mean_std_of_scores_random_forest_for_distributional_shifts(number_of_iterations,dataset,new_test_data):\n",
    "    data_mean_std_rmse_r2 = {}\n",
    "\n",
    "    mean_std_rmse = []\n",
    "    mean_std_r2 = []\n",
    "    for i in range(number_of_iterations):\n",
    "        Rmse,r2 = random_forest_for_distributional_shifts(dataset,new_test_data)\n",
    "        mean_std_rmse.append(Rmse)\n",
    "        mean_std_r2.append(r2)\n",
    "\n",
    "    data_mean_std_rmse_r2['rmse'] = {'mean': np.mean(mean_std_rmse), 'std': np.std(mean_std_rmse)}\n",
    "    data_mean_std_rmse_r2['r2'] = {'mean': np.mean(mean_std_r2), 'std': np.std(mean_std_r2)}\n",
    "    print(data_mean_std_rmse_r2)\n",
    "    return data_mean_std_rmse_r2\n",
    "\n"
   ],
   "metadata": {
    "collapsed": false,
    "pycharm": {
     "name": "#%%\n"
    }
   }
  },
  {
   "cell_type": "code",
   "execution_count": 765,
   "outputs": [
    {
     "name": "stdout",
     "output_type": "stream",
     "text": [
      "{'rmse': {'mean': 145.74761212178527, 'std': 0.0}, 'r2': {'mean': -21.489307558216236, 'std': 0.0}}\n",
      "{'rmse': {'mean': 144.57572591744528, 'std': 0.0}, 'r2': {'mean': -21.12911015480306, 'std': 0.0}}\n"
     ]
    }
   ],
   "source": [
    "data_distribution_shifts = data_for_distributional_shifts()\n",
    "test_data=new_test_data_for_distributional_shifts()\n",
    "f = mean_std_of_scores_linear_regression_for_distributional_shifts(3,data_distribution_shifts,test_data)\n",
    "h = mean_std_of_scores_random_forest_for_distributional_shifts(3,data_distribution_shifts,test_data)"
   ],
   "metadata": {
    "collapsed": false,
    "pycharm": {
     "name": "#%%\n"
    }
   }
  },
  {
   "cell_type": "code",
   "execution_count": 766,
   "outputs": [
    {
     "data": {
      "text/plain": "<Figure size 432x288 with 1 Axes>",
      "image/png": "[encoded data removed]"
     },
     "metadata": {
      "needs_background": "light"
     },
     "output_type": "display_data"
    },
    {
     "data": {
      "text/plain": "<Figure size 432x288 with 1 Axes>",
      "image/png": "[encoded data removed]"
     },
     "metadata": {
      "needs_background": "light"
     },
     "output_type": "display_data"
    }
   ],
   "source": [
    "# plot for rmse\n",
    "\n",
    "models = ['Linear Regression', 'Random Forest']\n",
    "x_pos = np.arange(len(models))\n",
    "CTEs =  f['rmse']['mean'] , h['rmse']['mean']\n",
    "error = f['rmse']['std']  , h['rmse']['std']\n",
    "\n",
    "fig, ax = plt.subplots()\n",
    "\n",
    "ax.bar(x_pos, CTEs, yerr=error, align='center', alpha=0.5, ecolor='black', capsize=10,width = 0.2)\n",
    "ax.set_ylabel('RMSE Scores')\n",
    "ax.set_xticks(x_pos)\n",
    "ax.set_xticklabels(models)\n",
    "\n",
    "ax.yaxis.grid(True)\n",
    "\n",
    "# plot for r2\n",
    "\n",
    "models = ['Linear Regression', 'Random Forest']\n",
    "x_pos = np.arange(len(models))\n",
    "CTEs = f['r2']['mean'] , h['r2']['mean']\n",
    "error = f['r2']['std']  , h['r2']['std']\n",
    "\n",
    "fig, ax = plt.subplots()\n",
    "\n",
    "ax.bar(x_pos, CTEs, yerr=error, align='center', alpha=0.5, ecolor='black', capsize=10,width = 0.2)\n",
    "ax.set_ylabel('R2 Scores')\n",
    "ax.set_xticks(x_pos)\n",
    "ax.set_xticklabels(models)\n",
    "\n",
    "ax.yaxis.grid(True)"
   ],
   "metadata": {
    "collapsed": false,
    "pycharm": {
     "name": "#%%\n"
    }
   }
  },
  {
   "cell_type": "code",
   "execution_count": null,
   "outputs": [],
   "source": [
    "# For imbalanced data"
   ],
   "metadata": {
    "collapsed": false,
    "pycharm": {
     "name": "#%%\n"
    }
   }
  },
  {
   "cell_type": "code",
   "execution_count": null,
   "outputs": [],
   "source": [],
   "metadata": {
    "collapsed": false,
    "pycharm": {
     "name": "#%%\n"
    }
   }
  },
  {
   "cell_type": "code",
   "execution_count": null,
   "outputs": [],
   "source": [],
   "metadata": {
    "collapsed": false,
    "pycharm": {
     "name": "#%%\n"
    }
   }
  },
  {
   "cell_type": "code",
   "execution_count": null,
   "outputs": [],
   "source": [],
   "metadata": {
    "collapsed": false,
    "pycharm": {
     "name": "#%%\n"
    }
   }
  },
  {
   "cell_type": "code",
   "execution_count": null,
   "outputs": [],
   "source": [],
   "metadata": {
    "collapsed": false,
    "pycharm": {
     "name": "#%%\n"
    }
   }
  },
  {
   "cell_type": "code",
   "execution_count": 500,
   "outputs": [],
   "source": [],
   "metadata": {
    "collapsed": false,
    "pycharm": {
     "name": "#%%\n"
    }
   }
  },
  {
   "cell_type": "code",
   "execution_count": 692,
   "outputs": [],
   "source": [],
   "metadata": {
    "collapsed": false,
    "pycharm": {
     "name": "#%%\n"
    }
   }
  },
  {
   "cell_type": "code",
   "execution_count": null,
   "outputs": [],
   "source": [],
   "metadata": {
    "collapsed": false,
    "pycharm": {
     "name": "#%%\n"
    }
   }
  }
 ],
 "metadata": {
  "kernelspec": {
   "display_name": "Python 3",
   "language": "python",
   "name": "python3"
  },
  "language_info": {
   "codemirror_mode": {
    "name": "ipython",
    "version": 2
   },
   "file_extension": ".py",
   "mimetype": "text/x-python",
   "name": "python",
   "nbconvert_exporter": "python",
   "pygments_lexer": "ipython2",
   "version": "2.7.6"
  }
 },
 "nbformat": 4,
 "nbformat_minor": 0
}